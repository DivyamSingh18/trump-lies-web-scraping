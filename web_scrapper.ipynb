{
  "nbformat": 4,
  "nbformat_minor": 0,
  "metadata": {
    "colab": {
      "name": "web scrapper.ipynb",
      "provenance": [],
      "collapsed_sections": []
    },
    "kernelspec": {
      "name": "python3",
      "display_name": "Python 3"
    },
    "language_info": {
      "name": "python"
    },
    "accelerator": "GPU"
  },
  "cells": [
    {
      "cell_type": "code",
      "source": [
        "import requests"
      ],
      "metadata": {
        "id": "azhnWk1Komul"
      },
      "execution_count": 104,
      "outputs": []
    },
    {
      "cell_type": "code",
      "source": [
        "headers = {'User-Agent': 'Mozilla/5.0 (X11; Linux x86_64) AppleWebKit/537.36 (KHTML, like Gecko) Chrome/47.0.2526.106 Safari/537.36'}"
      ],
      "metadata": {
        "id": "4nELmTravyGF"
      },
      "execution_count": 105,
      "outputs": []
    },
    {
      "cell_type": "code",
      "source": [
        "r = requests.get('https://insights.blackcoffer.com/how-is-login-logout-time-tracking-for-employees-in-office-done-by-ai/', headers = headers)"
      ],
      "metadata": {
        "id": "qgCaqXQUv1JV"
      },
      "execution_count": 106,
      "outputs": []
    },
    {
      "cell_type": "code",
      "source": [
        "# print the first 500 characters of the HTML\n",
        "print(r.text[0:500])"
      ],
      "metadata": {
        "colab": {
          "base_uri": "https://localhost:8080/"
        },
        "id": "O9OAoP6ir93D",
        "outputId": "612bcbe9-4627-4b6c-d335-665df38e6720"
      },
      "execution_count": 107,
      "outputs": [
        {
          "output_type": "stream",
          "name": "stdout",
          "text": [
            "<!doctype html >\r\n",
            "<!--[if IE 8]>    <html class=\"ie8\" lang=\"en\"> <![endif]-->\r\n",
            "<!--[if IE 9]>    <html class=\"ie9\" lang=\"en\"> <![endif]-->\r\n",
            "<!--[if gt IE 8]><!--> <html lang=\"en-US\"> <!--<![endif]-->\r\n",
            "<head>\r\n",
            "    <meta charset=\"UTF-8\" />\r\n",
            "    <meta name=\"viewport\" content=\"width=device-width, initial-scale=1.0\">\r\n",
            "    <link rel=\"pingback\" href=\"https://insights.blackcoffer.com/xmlrpc.php\" />\r\n",
            "    <meta name='robots' content='index, follow, max-image-preview:large, max-snippet:-1, max-video-previe\n"
          ]
        }
      ]
    },
    {
      "cell_type": "code",
      "source": [
        "from bs4 import BeautifulSoup\n",
        "soup = BeautifulSoup(r.text, 'html.parser')"
      ],
      "metadata": {
        "id": "M2tckDtAs4qU"
      },
      "execution_count": 108,
      "outputs": []
    },
    {
      "cell_type": "code",
      "source": [
        "result = soup.find_all('h1', attrs={'class':'entry-title'})"
      ],
      "metadata": {
        "id": "XMZ_lmTos6sU"
      },
      "execution_count": 125,
      "outputs": []
    },
    {
      "cell_type": "code",
      "source": [
        "result"
      ],
      "metadata": {
        "colab": {
          "base_uri": "https://localhost:8080/"
        },
        "id": "h3hdMhgPtOBb",
        "outputId": "ba174df3-5280-438e-dbf4-3d938e771199"
      },
      "execution_count": 126,
      "outputs": [
        {
          "output_type": "execute_result",
          "data": {
            "text/plain": [
              "[<h1 class=\"entry-title\">How is Login Logout Time Tracking for Employees in Office done by AI?</h1>]"
            ]
          },
          "metadata": {},
          "execution_count": 126
        }
      ]
    },
    {
      "cell_type": "code",
      "source": [
        "# for only accessing the text inside the tags:\n",
        "result1 = soup.find('h1', attrs={'class':'entry-title'}).string"
      ],
      "metadata": {
        "id": "8ls8HqFUtea_"
      },
      "execution_count": 127,
      "outputs": []
    },
    {
      "cell_type": "code",
      "source": [
        "result1"
      ],
      "metadata": {
        "colab": {
          "base_uri": "https://localhost:8080/",
          "height": 35
        },
        "id": "nR_OMIknxPlK",
        "outputId": "06363f49-1022-463f-93cb-d30c13b7a4b2"
      },
      "execution_count": 128,
      "outputs": [
        {
          "output_type": "execute_result",
          "data": {
            "text/plain": [
              "'How is Login Logout Time Tracking for Employees in Office done by AI?'"
            ],
            "application/vnd.google.colaboratory.intrinsic+json": {
              "type": "string"
            }
          },
          "metadata": {},
          "execution_count": 128
        }
      ]
    },
    {
      "cell_type": "code",
      "source": [
        ""
      ],
      "metadata": {
        "id": "Um3i5LxRxnVU"
      },
      "execution_count": null,
      "outputs": []
    }
  ]
}